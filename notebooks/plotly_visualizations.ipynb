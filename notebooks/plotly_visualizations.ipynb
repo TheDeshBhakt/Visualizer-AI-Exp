{
 "cells": [
  {
   "cell_type": "markdown",
   "metadata": {},
   "source": [
    "# Plotly: Interactive Data Visualization\n",
    "\n",
    "Welcome to our guide on Plotly, a powerful Python library for creating interactive and publication-quality visualizations. This notebook is designed for students who want to go beyond static plots and create engaging, web-based visualizations that allow users to explore the data for themselves.\n",
    "\n",
    "**What is Plotly?**\n",
    "\n",
    "Plotly is a versatile data visualization library that allows you to create a wide range of interactive charts, graphs, and dashboards. Unlike Matplotlib and Seaborn, which produce static images, Plotly generates HTML files that can be embedded in websites, shared with others, or viewed in a web browser.\n",
    "\n",
    "**Why Use Plotly?**\n",
    "\n",
    "*   **Interactivity:** Plotly charts are fully interactive, allowing users to zoom, pan, and hover over data points to see more information.\n",
    "*   **Publication-Quality:** Plotly produces high-quality, professional-looking visualizations that are suitable for presentations, reports, and publications.\n",
    "*   **Wide Range of Chart Types:** Plotly supports a wide variety of chart types, including 3D plots, maps, and financial charts.\n",
    "\n",
    "In this notebook, we'll explore the basics of Plotly and learn how to create a variety of interactive visualizations."
   ]
  },
  {
   "cell_type": "markdown",
   "metadata": {},
   "source": [
    "## 1. Basic Interactive Plots\n",
    "\n",
    "Let's start by creating some basic interactive plots, including a line plot, a bar chart, and a scatter plot. We'll use the `plotly.express` module, which provides a simple and intuitive interface for creating a wide variety of charts.\n"
   ]
  },
  {
   "cell_type": "code",
   "execution_count": null,
   "metadata": {},
   "outputs": [],
   "source": [
    "import plotly.express as px\n",
    "import numpy as np\n",
    "\n",
    "# Sample data\n",
    "x = np.arange(10)\n",
    "y = np.random.randn(10)\n",
    "\n",
    "# Create an interactive line plot\n",
    "fig = px.line(x=x, y=y, title='Interactive Line Plot')\n",
    "fig.show()"
   ]
  },
  {
   "cell_type": "code",
   "execution_count": null,
   "metadata": {},
   "outputs": [],
   "source": [
    "# Sample data\n",
    "data = {'Category': ['A', 'B', 'C', 'D', 'E'], 'Value': [10, 20, 15, 25, 30]}\n",
    "\n",
    "# Create an interactive bar chart\n",
    "fig = px.bar(data, x='Category', y='Value', title='Interactive Bar Chart')\n",
    "fig.show()"
   ]
  },
  {
   "cell_type": "code",
   "execution_count": null,
   "metadata": {},
   "outputs": [],
   "source": [
    "# Sample data\n",
    "x = np.random.randn(100)\n",
    "y = np.random.randn(100)\n",
    "\n",
    "# Create an interactive scatter plot\n",
    "fig = px.scatter(x=x, y=y, title='Interactive Scatter Plot')\n",
    "fig.show()"
   ]
  },
  {
   "cell_type": "markdown",
   "metadata": {},
   "source": [
    "## 2. Advanced Interactive Visualizations\n",
    "\n",
    "Plotly also supports a wide range of advanced visualizations, including 3D plots, maps, and financial charts. Let's create a few examples.\n"
   ]
  },
  {
   "cell_type": "code",
   "execution_count": null,
   "metadata": {},
   "outputs": [],
   "source": [
    "# Sample data\n",
    "x = np.random.randn(100)\n",
    "y = np.random.randn(100)\n",
    "z = np.random.randn(100)\n",
    "\n",
    "# Create a 3D scatter plot\n",
    "fig = px.scatter_3d(x=x, y=y, z=z, title='3D Scatter Plot')\n",
    "fig.show()"
   ]
  },
  {
   "cell_type": "code",
   "execution_count": null,
   "metadata": {},
   "outputs": [],
   "source": [
    "# Sample data\n",
    "data = px.data.gapminder().query('year == 2007')\n",
    "\n",
    "# Create a bubble chart\n",
    "fig = px.scatter(data, x='gdpPercap', y='lifeExp', size='pop', color='continent', hover_name='country', log_x=True, size_max=60)\n",
    "fig.show()"
   ]
  },
  {
   "cell_type": "markdown",
   "metadata": {},
   "source": [
    "## 3. Dashboards and Web Apps\n",
    "\n",
    "Plotly also has a companion library called Dash, which allows you to build interactive web applications and dashboards with just a few lines of Python code. While we won't cover Dash in detail in this notebook, it's a great next step for those who want to create more complex and interactive data visualizations.\n"
   ]
  },
  {
   "cell_type": "markdown",
   "metadata": {},
   "source": [
    "## Conclusion and Next Steps\n",
    "\n",
    "Congratulations! You've learned the basics of Plotly and how to create a variety of interactive visualizations. By incorporating these techniques into your data analysis workflow, you'll be able to create more engaging and informative presentations and reports.\n",
    "\n",
    "**Exercises:**\n",
    "\n",
    "1.  **Create an interactive line plot:** Use the `gapminder` dataset to create an interactive line plot of the life expectancy in a country of your choice over time.\n",
    "2.  **Create an interactive bar chart:** Use the `tips` dataset to create an interactive bar chart of the average total bill for each day of the week.\n",
_EOT_
    "3.  **Create an interactive scatter plot:** Use the `iris` dataset to create an interactive scatter plot of sepal length vs. sepal width, colored by species.\n",
    "4.  **Create a 3D scatter plot:** Use the `iris` dataset to create a 3D scatter plot of sepal length, sepal width, and petal length, colored by species.\n",
    "\n",
    "This concludes our series on data visualizations. We hope you've found these notebooks helpful and that you're now more confident in your ability to create beautiful and informative visualizations."
   ]
  }
 ],
 "metadata": {
  "kernelspec": {
   "display_name": "Python 3",
   "language": "python",
   "name": "python3"
  },
  "language_info": {
   "codemirror_mode": {
    "name": "ipython",
    "version": 3
   },
   "file_extension": ".py",
   "mimetype": "text/x-python",
   "name": "python",
   "nbconvert_exporter": "python",
   "pygments_lexer": "ipython3",
   "version": "3.10.9"
  }
 },
 "nbformat": 4,
 "nbformat_minor": 4
}
