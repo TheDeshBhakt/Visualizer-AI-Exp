{
 "cells": [
  {
   "cell_type": "markdown",
   "metadata": {},
   "source": [
    "# Matplotlib: A Beginner's Guide to Data Visualization\n",
    "\n",
    "Welcome to this introductory guide to Matplotlib, one of the most popular and versatile data visualization libraries in Python. This notebook is designed for B.S. and M.S. students who are new to data visualization and want to build a strong foundation in creating plots and charts.\n",
    "\n",
    "**What is Matplotlib?**\n",
    "\n",
    "Matplotlib is a low-level plotting library that provides a great deal of flexibility and control over your visualizations. It's the foundation upon which many other data visualization libraries, like Seaborn, are built. By understanding Matplotlib, you'll gain a deeper appreciation for how plotting works in Python.\n",
    "\n",
    "**Why Learn Matplotlib?**\n",
    "\n",
    "*   **Control:** Matplotlib gives you fine-grained control over every aspect of your plots, from colors and line styles to labels and annotations.\n",
    "*   **Versatility:** You can create a wide variety of plots, including line plots, bar charts, scatter plots, histograms, and more.\n",
    "*   **Foundation:** Understanding Matplotlib will make it easier to learn and use other data visualization libraries.\n",
    "\n",
    "In this notebook, we'll explore some of the most common plots and learn how to create them using Matplotlib. We'll also discuss when to use each type of plot and how to interpret the results."
   ]
  },
  {
   "cell_type": "markdown",
   "metadata": {},
   "source": [
    "## 1. Line Plots: Visualizing Trends Over Time\n",
    "\n",
    "**What is a Line Plot?**\n",
    "\n",
    "A line plot is a simple yet powerful way to visualize data that changes over a continuous interval, such as time. It's ideal for showing trends, patterns, and relationships between two variables.\n",
    "\n",
    "**When to Use a Line Plot:**\n",
    "\n",
    "*   Tracking stock prices over a year\n",
    "*   Monitoring temperature changes throughout a day\n",
    "*   Visualizing website traffic over a month\n",
    "\n",
    "Let's create a simple line plot to visualize the growth of a plant over several weeks."
   ]
  },
  {
   "cell_type": "code",
   "execution_count": null,
   "metadata": {},
   "outputs": [],
   "source": [
    "import matplotlib.pyplot as plt\n",
    "import numpy as np\n",
    "\n",
    "# Sample data: Plant growth over 10 weeks\n",
    "weeks = np.arange(1, 11)\n",
    "height = np.array([2, 4, 7, 11, 15, 19, 23, 26, 29, 31])\n",
    "\n",
    "# Create the line plot\n",
    "plt.figure(figsize=(8, 5))\n",
    "plt.plot(weeks, height, marker='o', linestyle='-', color='g')\n",
    "\n",
    "# Add titles and labels\n",
    "plt.title('Plant Growth Over 10 Weeks')\n",
    "plt.xlabel('Weeks')\n",
    "plt.ylabel('Height (cm)')\n",
    "\n",
    "# Add a grid for better readability\n",
    "plt.grid(True)\n",
    "\n",
    "# Show the plot\n",
    "plt.show()"
   ]
  },
  {
   "cell_type": "markdown",
   "metadata": {},
   "source": [
    "## 2. Bar Charts: Comparing Categorical Data\n",
    "\n",
    "**What is a Bar Chart?**\n",
    "\n",
    "A bar chart is used to compare the values of different categories. It represents each category as a bar, with the length of the bar corresponding to the value.\n",
    "\n",
    "**When to Use a Bar Chart:**\n",
    "\n",
    "*   Comparing the sales of different products\n",
    "*   Showing the number of students in different majors\n",
    "*   Visualizing the population of different countries\n",
    "\n",
    "Let's create a bar chart to compare the number of students enrolled in different courses."
   ]
  },
  {
   "cell_type": "code",
   "execution_count": null,
   "metadata": {},
   "outputs": [],
   "source": [
    "# Sample data: Student enrollment in different courses\n",
    "courses = ['Math', 'Science', 'English', 'History', 'Art']\n",
    "students = [80, 95, 70, 55, 65]\n",
    "\n",
    "# Create the bar chart\n",
    "plt.figure(figsize=(8, 5))\n",
    "plt.bar(courses, students, color=['blue', 'green', 'red', 'purple', 'orange'])\n",
    "\n",
    "# Add titles and labels\n",
    "plt.title('Student Enrollment in Different Courses')\n",
    "plt.xlabel('Courses')\n",
    "plt.ylabel('Number of Students')\n",
    "\n",
    "# Show the plot\n",
    "plt.show()"
   ]
  },
  {
   "cell_type": "markdown",
   "metadata": {},
   "source": [
    "## 3. Scatter Plots: Exploring Relationships\n",
    "\n",
    "**What is a Scatter Plot?**\n",
    "\n",
    "A scatter plot is used to visualize the relationship between two numerical variables. Each point on the plot represents an observation from the dataset.\n",
    "\n",
    "**When to Use a Scatter Plot:**\n",
    "\n",
    "*   Investigating the correlation between advertising spending and sales\n",
    "*   Exploring the relationship between a student's study hours and their exam scores\n",
    "*   Analyzing the connection between a car's weight and its fuel efficiency\n",
    "\n",
    "Let's create a scatter plot to examine the relationship between hours spent studying and exam scores."
   ]
  },
  {
   "cell_type": "code",
   "execution_count": null,
   "metadata": {},
   "outputs": [],
   "source": [
    "# Sample data: Study hours and exam scores\n",
    "study_hours = np.array([2, 3, 5, 6, 8, 9, 10, 12])\n",
    "exam_scores = np.array([65, 70, 75, 80, 85, 88, 90, 92])\n",
    "\n",
    "# Create the scatter plot\n",
    "plt.figure(figsize=(8, 5))\n",
    "plt.scatter(study_hours, exam_scores, color='purple', marker='*')\n",
    "\n",
    "# Add titles and labels\n",
    "plt.title('Relationship Between Study Hours and Exam Scores')\n",
    "plt.xlabel('Study Hours')\n",
    "plt.ylabel('Exam Scores')\n",
    "\n",
    "# Add a grid\n",
    "plt.grid(True)\n",
    "\n",
    "# Show the plot\n",
    "plt.show()"
   ]
  },
  {
   "cell_type": "markdown",
   "metadata": {},
   "source": [
    "## 4. Histograms: Understanding Distributions\n",
    "\n",
    "**What is a Histogram?**\n",
    "\n",
    "A histogram is used to visualize the distribution of a single numerical variable. It divides the data into a series of intervals (or \"bins\") and shows the number of observations that fall into each bin.\n",
    "\n",
    "**When to Use a Histogram:**\n",
    "\n",
    "*   Analyzing the distribution of student grades in a class\n",
    "*   Visualizing the age distribution of a population\n",
    "*   Examining the distribution of house prices in a city\n",
    "\n",
    "Let's create a histogram to understand the distribution of exam scores in a class."
   ]
  },
  {
   "cell_type": "code",
   "execution_count": null,
   "metadata": {},
   "outputs": [],
   "source": [
    "# Sample data: Exam scores of 100 students\n",
    "exam_scores = np.random.normal(loc=75, scale=10, size=100)\n",
    "\n",
    "# Create the histogram\n",
    "plt.figure(figsize=(8, 5))\n",
    "plt.hist(exam_scores, bins=10, color='skyblue', edgecolor='black')\n",
    "\n",
    "# Add titles and labels\n",
    "plt.title('Distribution of Exam Scores')\n",
    "plt.xlabel('Exam Scores')\n",
    "plt.ylabel('Frequency')\n",
    "\n",
    "# Show the plot\n",
    "plt.show()"
   ]
  },
  {
   "cell_type": "markdown",
   "metadata": {},
   "source": [
    "## Conclusion and Next Steps\n",
    "\n",
    "Congratulations! You've learned how to create some of the most common plots using Matplotlib. By mastering these fundamental visualizations, you're well on your way to becoming a proficient data visualizer.\n",
    "\n",
    "**Exercises:**\n",
    "\n",
    "1.  **Create a line plot:** Visualize the temperature changes over a 24-hour period. You can create your own dummy data or find a small dataset online.\n",
    "2.  **Create a bar chart:** Compare the populations of five different cities.\n",
    "3.  **Create a scatter plot:** Explore the relationship between a person's age and their income.\n",
    "4.  **Create a histogram:** Analyze the distribution of heights in a group of people.\n",
    "\n",
    "Feel free to experiment with different datasets and customize your plots with different colors, styles, and labels. The more you practice, the more comfortable you'll become with Matplotlib.\n",
    "\n",
    "In the next notebook, we'll explore **Seaborn**, a library built on top of Matplotlib that makes it even easier to create beautiful and informative statistical plots."
   ]
  }
 ],
 "metadata": {
  "kernelspec": {
   "display_name": "Python 3",
   "language": "python",
   "name": "python3"
  },
  "language_info": {
   "codemirror_mode": {
    "name": "ipython",
    "version": 3
   },
   "file_extension": ".py",
   "mimetype": "text/x-python",
   "name": "python",
   "nbconvert_exporter": "python",
   "pygments_lexer": "ipython3",
   "version": "3.10.9"
  }
 },
 "nbformat": 4,
 "nbformat_minor": 4
}
