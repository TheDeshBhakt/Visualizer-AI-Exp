{
 "cells": [
  {
   "cell_type": "markdown",
   "metadata": {},
   "source": [
    "# Comprehensive Guide to Data Visualization Plots\n",
    "\n",
    "This notebook provides a comprehensive guide to various data visualization plots. Each section includes a description of the plot, its use cases, and a Python code example with dummy data to generate the plot."
   ]
  },
  {
   "cell_type": "code",
   "execution_count": null,
   "metadata": {},
   "outputs": [],
   "source": [
    "import matplotlib.pyplot as plt\n",
    "import seaborn as sns\n",
    "import pandas as pd\n",
    "import numpy as np\n",
    "import plotly.express as px\n",
    "import plotly.graph_objects as go\n",
    "import squarify\n",
    "from scipy.cluster.hierarchy import linkage, dendrogram"
   ]
  },
  {
   "cell_type": "markdown",
   "metadata": {},
   "source": [
    "## 1. Line Plot\n",
    "\n",
    "**Description:** A line plot is a type of chart which displays information as a series of data points called 'markers' connected by straight line segments.\n",
    "\n",
    "**Use Cases:** It is a basic type of chart common in many fields. It is used to show trends over a continuous range, such as time."
   ]
  },
  {
   "cell_type": "code",
   "execution_count": null,
   "metadata": {},
   "outputs": [],
   "source": [
    "x = np.linspace(0, 10, 100)\n",
    "y = np.sin(x)\n",
    "plt.figure(figsize=(8, 4))\n",
    "plt.plot(x, y)\n",
    "plt.title('Line Plot')\n",
    "plt.xlabel('X-axis')\n",
    "plt.ylabel('Y-axis')\n",
    "plt.grid(True)\n",
    "plt.show()"
   ]
  },
  {
   "cell_type": "markdown",
   "metadata": {},
   "source": [
    "## 2. Bar Plot\n",
    "\n",
    "**Description:** A bar plot or bar chart is a chart that presents categorical data with rectangular bars with heights or lengths proportional to the values that they represent.\n",
    "\n",
    "**Use Cases:** Bar charts are used for comparing the values of different categories."
   ]
  },
  {
   "cell_type": "code",
   "execution_count": null,
   "metadata": {},
   "outputs": [],
   "source": [
    "categories = ['A', 'B', 'C', 'D']\n",
    "values = [10, 20, 15, 25]\n",
    "plt.figure(figsize=(8, 4))\n",
    "plt.bar(categories, values)\n",
    "plt.title('Bar Plot')\n",
    "plt.xlabel('Category')\n",
    "plt.ylabel('Value')\n",
    "plt.show()"
   ]
  },
  {
   "cell_type": "markdown",
   "metadata": {},
   "source": [
    "## 3. Histogram\n",
    "\n",
    "**Description:** A histogram is an approximate representation of the distribution of numerical data.\n",
    "\n",
    "**Use Cases:** It is used to show the frequency distribution of a dataset."
   ]
  },
  {
   "cell_type": "code",
   "execution_count": null,
   "metadata": {},
   "outputs": [],
   "source": [
    "data = np.random.randn(1000)\n",
    "plt.figure(figsize=(8, 4))\n",
    "plt.hist(data, bins=30)\n",
    "plt.title('Histogram')\n",
    "plt.xlabel('Value')\n",
    "plt.ylabel('Frequency')\n",
    "plt.show()"
   ]
  },
  {
   "cell_type": "markdown",
   "metadata": {},
   "source": [
    "## 4. Scatter Plot\n",
    "\n",
    "**Description:** A scatter plot is a type of plot or mathematical diagram using Cartesian coordinates to display values for typically two variables for a set of data.\n",
    "\n",
    "**Use Cases:** It is used to show the relationship between two numerical variables."
   ]
  },
  {
   "cell_type": "code",
   "execution_count": null,
   "metadata": {},
   "outputs": [],
   "source": [
    "x = np.random.rand(50)\n",
    "y = np.random.rand(50)\n",
    "plt.figure(figsize=(8, 4))\n",
    "plt.scatter(x, y)\n",
    "plt.title('Scatter Plot')\n",
    "plt.xlabel('X-axis')\n",
    "plt.ylabel('Y-axis')\n",
    "plt.show()"
   ]
  },
  {
   "cell_type": "markdown",
   "metadata": {},
   "source": [
    "## 5. Box Plot\n",
    "\n",
    "**Description:** A box plot is a method for graphically depicting groups of numerical data through their quartiles.\n",
    "\n",
    "**Use Cases:** It is used to show the distribution of numerical data and identify outliers."
   ]
  },
  {
   "cell_type": "code",
   "execution_count": null,
   "metadata": {},
   "outputs": [],
   "source": [
    "data = [np.random.normal(0, std, 100) for std in range(1, 4)]\n",
    "plt.figure(figsize=(8, 4))\n",
    "plt.boxplot(data, vert=True, patch_artist=True, labels=['A', 'B', 'C'])\n",
    "plt.title('Box Plot')\n",
    "plt.xlabel('Category')\n",
    "plt.ylabel('Value')\n",
    "plt.show()"
   ]
  },
  {
   "cell_type": "markdown",
   "metadata": {},
   "source": [
    "## 6. Heatmap\n",
    "\n",
    "**Description:** A heatmap is a data visualization technique that shows magnitude of a phenomenon as color in two dimensions.\n",
    "\n",
    "**Use Cases:** It is used to show the correlation between variables in a dataset."
   ]
  },
  {
   "cell_type": "code",
   "execution_count": null,
   "metadata": {},
   "outputs": [],
   "source": [
    "data = np.random.rand(10, 10)\n",
    "plt.figure(figsize=(8, 6))\n",
    "sns.heatmap(data, annot=True, cmap='viridis')\n",
    "plt.title('Heatmap')\n",
    "plt.show()"
   ]
  },
  {
   "cell_type": "markdown",
   "metadata": {},
   "source": [
    "## 7. Pie Chart\n",
    "\n",
    "**Description:** A pie chart is a circular statistical graphic, which is divided into slices to illustrate numerical proportion.\n",
    "\n",
    "**Use Cases:** It is used to show the proportion of different categories in a dataset. It is best used for a small number of categories."
   ]
  },
  {
   "cell_type": "code",
   "execution_count": null,
   "metadata": {},
   "outputs": [],
   "source": [
    "labels = 'A', 'B', 'C', 'D'\n",
    "sizes = [15, 30, 45, 10]\n",
    "plt.figure(figsize=(6, 6))\n",
    "plt.pie(sizes, labels=labels, autopct='%1.1f%%', startangle=90)\n",
    "plt.title('Pie Chart')\n",
    "plt.axis('equal')\n",
    "plt.show()"
   ]
  },
  {
   "cell_type": "markdown",
   "metadata": {},
   "source": [
    "## 8. Violin Plot\n",
    "\n",
    "**Description:** A violin plot is a method of plotting numeric data. It is similar to a box plot, with the addition of a rotated kernel density plot on each side.\n",
    "\n",
    "**Use Cases:** It is used to visualize the distribution of the data and its probability density."
   ]
  },
  {
   "cell_type": "code",
   "execution_count": null,
   "metadata": {},
   "outputs": [],
   "source": [
    "df = sns.load_dataset('tips')\n",
    "plt.figure(figsize=(8, 6))\n",
    "sns.violinplot(x='day', y='total_bill', data=df)\n",
    "plt.title('Violin Plot')\n",
    "plt.show()"
   ]
  },
  {
   "cell_type": "markdown",
   "metadata": {},
   "source": [
    "## 9. Area Plot\n",
    "\n",
    "**Description:** An area plot or area chart displays graphically quantitative data. It is based on the line chart.\n",
    "\n",
    "**Use Cases:** It is used to show the trend of quantitative data over time."
   ]
  },
  {
   "cell_type": "code",
   "execution_count": null,
   "metadata": {},
   "outputs": [],
   "source": [
    "x = range(1, 6)\n",
    "y = [1, 4, 6, 8, 4]\n",
    "plt.figure(figsize=(8, 4))\n",
    "plt.fill_between(x, y)\n",
    "plt.title('Area Plot')\n",
    "plt.xlabel('X-axis')\n",
    "plt.ylabel('Y-axis')\n",
    "plt.show()"
   ]
  },
  {
   "cell_type": "markdown",
   "metadata": {},
   "source": [
    "## 10. Pair Plot\n",
    "\n",
    "**Description:** A pair plot is a matrix of scatterplots that allows you to understand the pairwise relationship between different variables in a dataset.\n",
    "\n",
    "**Use Cases:** It is used to visualize the relationships between all pairs of numerical variables in a dataset."
   ]
  },
  {
   "cell_type": "code",
   "execution_count": null,
   "metadata": {},
   "outputs": [],
   "source": [
    "df = sns.load_dataset('iris')\n",
    "sns.pairplot(df, hue='species')\n",
    "plt.suptitle('Pair Plot', y=1.02)\n",
    "plt.show()"
   ]
  },
  {
   "cell_type": "markdown",
   "metadata": {},
   "source": [
    "## 11. Bubble Plot\n",
    "\n",
    "**Description:** A bubble plot is a scatter plot where a third dimension of the data is shown through the size of markers.\n",
    "\n",
    "**Use Cases:** It is used to show the relationship between three numerical variables."
   ]
  },
  {
   "cell_type": "code",
   "execution_count": null,
   "metadata": {},
   "outputs": [],
   "source": [
    "x = np.random.rand(20)\n",
    "y = np.random.rand(20)\n",
    "z = np.random.rand(20) * 1000\n",
    "plt.figure(figsize=(8, 6))\n",
    "plt.scatter(x, y, s=z, alpha=0.5)\n",
    "plt.title('Bubble Plot')\n",
    "plt.xlabel('X-axis')\n",
    "plt.ylabel('Y-axis')\n",
    "plt.show()"
   ]
  },
  {
   "cell_type": "markdown",
   "metadata": {},
   "source": [
    "## 12. Stacked Bar Plot\n",
    "\n",
    "**Description:** A stacked bar plot is a variation of the bar plot, where each bar is divided into a number of sub-bars stacked one on top of the other.\n",
    "\n",
    "**Use Cases:** It is used to compare the total values across categories and also show the composition of each category."
   ]
  },
  {
   "cell_type": "code",
   "execution_count": null,
   "metadata": {},
   "outputs": [],
   "source": [
    "categories = ['A', 'B', 'C', 'D']\n",
    "series1 = np.array([1, 2, 3, 4])\n",
    "series2 = np.array([4, 3, 2, 1])\n",
    "series3 = np.array([2, 2, 2, 2])\n",
    "plt.figure(figsize=(8, 4))\n",
    "plt.bar(categories, series1, label='Series 1')\n",
    "plt.bar(categories, series2, bottom=series1, label='Series 2')\n",
    "plt.bar(categories, series3, bottom=series1+series2, label='Series 3')\n",
    "plt.title('Stacked Bar Plot')\n",
    "plt.xlabel('Category')\n",
    "plt.ylabel('Value')\n",
    "plt.legend()\n",
    "plt.show()"
   ]
  },
  {
   "cell_type": "markdown",
   "metadata": {},
   "source": [
    "## 13. Radar Chart\n",
    "\n",
    "**Description:** A radar chart is a graphical method of displaying multivariate data in the form of a two-dimensional chart of three or more quantitative variables represented on axes starting from the same point.\n",
    "\n",
    "**Use Cases:** It is used to compare multiple quantitative variables."
   ]
  },
  {
   "cell_type": "code",
   "execution_count": null,
   "metadata": {},
   "outputs": [],
   "source": [
    "labels=np.array(['Feature 1', 'Feature 2', 'Feature 3', 'Feature 4', 'Feature 5'])\n",
    "stats=np.array([10, 20, 15, 5, 25])\n",
    "angles=np.linspace(0, 2*np.pi, len(labels), endpoint=False).tolist()\n",
    "stats=np.concatenate((stats,[stats[0]]))\n",
    "angles=np.concatenate((angles,[angles[0]]))\n",
    "fig, ax = plt.subplots(figsize=(6, 6), subplot_kw=dict(polar=True))\n",
    "ax.plot(angles, stats, color='red', linewidth=2)\n",
    "ax.fill(angles, stats, color='red', alpha=0.25)\n",
    "ax.set_yticklabels([])\n",
    "ax.set_xticks(angles[:-1])\n",
    "ax.set_xticklabels(labels)\n",
    "plt.title('Radar Chart')\n",
    "plt.show()"
   ]
  },
  {
   "cell_type": "markdown",
   "metadata": {},
   "source": [
    "## 14. Funnel Plot\n",
    "\n",
    "**Description:** A funnel plot is a type of chart, often used in marketing, to represent the stages in a sales process and show the amount of potential revenue for each stage.\n",
    "\n",
    "**Use Cases:** It is used to visualize the flow of users through a process or a sales funnel."
   ]
  },
  {
   "cell_type": "code",
   "execution_count": null,
   "metadata": {},
   "outputs": [],
   "source": [
    "data = dict(\n",
    "    number=[39, 27.4, 20.6, 11, 2],\n",
    "    stage=[\"Website visit\", \"Downloads\", \"Potential customers\", \"Requested price\", \"invoice sent\"])\n",
    "fig = px.funnel(data, x='number', y='stage')\n",
    "fig.update_layout(title_text='Funnel Plot')\n",
    "fig.show()"
   ]
  },
  {
   "cell_type": "markdown",
   "metadata": {},
   "source": [
    "## 15. Treemap\n",
    "\n",
    "**Description:** A treemap is a method for displaying hierarchical data using nested figures, usually rectangles.\n",
    "\n",
    "**Use Cases:** It is used to show hierarchical data in a compact way."
   ]
  },
  {
   "cell_type": "code",
   "execution_count": null,
   "metadata": {},
   "outputs": [],
   "source": [
    "sizes = [50, 25, 12, 13]\n",
    "labels = ['A', 'B', 'C', 'D']\n",
    "plt.figure(figsize=(8, 6))\n",
    "squarify.plot(sizes=sizes, label=labels, alpha=.8 )\n",
    "plt.title('Treemap')\n",
    "plt.axis('off')\n",
    "plt.show()"
   ]
  },
  {
   "cell_type": "markdown",
   "metadata": {},
   "source": [
    "## 16. Chord Diagram\n",
    "\n",
    "**Description:** A chord diagram is a graphical method of displaying the inter-relationships between data in a matrix.\n",
    "\n",
    "**Use Cases:** It is used to visualize the flows or connections between several entities."
   ]
  },
  {
   "cell_type": "code",
   "execution_count": null,
   "metadata": {},
   "outputs": [],
   "source": [
    "labels = [\"A\", \"B\", \"C\", \"D\", \"E\"]\n",
    "matrix = [\n",
    "    [0, 5, 10, 15, 20],\n",
    "    [5, 0, 25, 30, 35],\n",
    "    [10, 25, 0, 40, 45],\n",
    "    [15, 30, 40, 0, 50],\n",
    "    [20, 35, 45, 50, 0]\n",
    "]\n",
    "fig = go.Figure(go.Chord(\n",
    "    labels=labels,\n",
    "    source=np.repeat(np.arange(len(labels)), len(labels)),\n",
    "    target=np.tile(np.arange(len(labels)), len(labels)),\n",
    "    value=np.array(matrix).flatten(),\n",
    "    labelfont=dict(size=11, color='black'),\n",
    "    line=dict(width=1, color='black'),\n",
    "    color=px.colors.qualitative.Plotly\n",
    "))\n",
    "fig.update_layout(title_text='Chord Diagram')\n",
    "fig.show()"
   ]
  },
  {
   "cell_type": "markdown",
   "metadata": {},
   "source": [
    "## 17. Sunburst Chart\n",
    "\n",
    "**Description:** A sunburst chart is a type of chart that is used to visualize hierarchical data. It consists of an inner circle surrounded by rings of deeper hierarchy levels.\n",
    "\n",
    "**Use Cases:** It is used to show how a whole is divided into parts and sub-parts."
   ]
  },
  {
   "cell_type": "code",
   "execution_count": null,
   "metadata": {},
   "outputs": [],
   "source": [
    "df = px.data.tips()\n",
    "fig = px.sunburst(df, path=['day', 'time', 'sex'], values='total_bill')\n",
    "fig.update_layout(title_text='Sunburst Chart')\n",
    "fig.show()"
   ]
  },
  {
   "cell_type": "markdown",
   "metadata": {},
   "source": [
    "## 18. Waterfall Plot\n",
    "\n",
    "**Description:** A waterfall plot is a form of data visualization that helps in understanding the cumulative effect of sequentially introduced positive or negative values.\n",
    "\n",
    "**Use Cases:** It is used to show how an initial value is affected by a series of intermediate positive or negative values."
   ]
  },
  {
   "cell_type": "code",
   "execution_count": null,
   "metadata": {},
   "outputs": [],
   "source": [
    "fig = go.Figure(go.Waterfall(\n",
    "    name = \"20\", orientation = \"v\",\n",
    "    measure = [\"relative\", \"relative\", \"total\", \"relative\", \"relative\", \"total\"],\n",
    "    x = [\"Sales\", \"Consulting\", \"Net revenue\", \"Purchases\", \"Other expenses\", \"Profit before tax\"],\n",
    "    textposition = \"outside\",\n",
    "    text = [\"+60\", \"+80\", \"\", \"-40\", \"-20\", \"Total\"],\n",
    "    y = [60, 80, 0, -40, -20, 0],\n",
    "    connector = {\"line\":{\"color\":\"rgb(63, 63, 63)\"}},\n",
    "))\n",
    "\n",
    "fig.update_layout(\n",
    "    title = \"Waterfall Plot\",\n",
    "    showlegend = True\n",
    ")\n",
    "\n",
    "fig.show()"
   ]
  },
  {
   "cell_type": "markdown",
   "metadata": {},
   "source": [
    "## 19. Contingency Table\n",
    "\n",
    "**Description:** A contingency table is a type of table in a matrix format that displays the (multivariate) frequency distribution of the variables.\n",
    "\n",
    "**Use Cases:** It is used to summarize the relationship between several categorical variables. Often visualized as a heatmap."
   ]
  },
  {
   "cell_type": "code",
   "execution_count": null,
   "metadata": {},
   "outputs": [],
   "source": [
    "df = sns.load_dataset('tips')\n",
    "contingency_table = pd.crosstab(df['day'], df['time'])\n",
    "plt.figure(figsize=(8, 6))\n",
    "sns.heatmap(contingency_table, annot=True, cmap='viridis')\n",
    "plt.title('Contingency Table Heatmap')\n",
    "plt.show()"
   ]
  },
  {
   "cell_type": "markdown",
   "metadata": {},
   "source": [
    "## 20. Dendrogram\n",
    "\n",
    "**Description:** A dendrogram is a diagram representing a tree. This diagrammatic representation is frequently used in different contexts: in hierarchical clustering, it illustrates the arrangement of the clusters produced by the corresponding analyses.\n",
    "\n",
    "**Use Cases:** It is used to illustrate the arrangement of the clusters produced by hierarchical clustering."
   ]
  },
  {
   "cell_type": "code",
   "execution_count": null,
   "metadata": {},
   "outputs": [],
   "source": [
    "X = np.random.rand(15, 3)\n",
    "linked = linkage(X, 'ward')\n",
    "plt.figure(figsize=(10, 7))\n",
    "dendrogram(linked,\n",
    "            orientation='top',\n",
    "            distance_sort='descending',\n",
    "            show_leaf_counts=True)\n",
    "plt.title('Dendrogram')\n",
    "plt.show()"
   ]
  }
 ],
 "metadata": {
  "kernelspec": {
   "display_name": "Python 3",
   "language": "python",
   "name": "python3"
  },
  "language_info": {
   "codemirror_mode": {
    "name": "ipython",
    "version": 3
   },
   "file_extension": ".py",
   "mimetype": "text/x-python",
   "name": "python",
   "nbconvert_exporter": "python",
   "pygments_lexer": "ipython3",
   "version": "3.10.9"
  }
 },
 "nbformat": 4,
 "nbformat_minor": 4
}
