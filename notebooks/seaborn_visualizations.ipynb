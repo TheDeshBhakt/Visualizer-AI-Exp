{
 "cells": [
  {
   "cell_type": "markdown",
   "metadata": {},
   "source": [
    "# Seaborn: Statistical Data Visualization\n",
    "\n",
    "Welcome to our guide on Seaborn, a powerful Python library for creating beautiful and informative statistical visualizations. This notebook is designed for students who have a basic understanding of Matplotlib and want to explore more advanced plotting techniques.\n",
    "\n",
    "**What is Seaborn?**\n",
    "\n",
    "Seaborn is a data visualization library built on top of Matplotlib. It provides a high-level interface for creating a wide range of statistical plots, making it easier to explore and understand your data. With Seaborn, you can create complex visualizations with just a few lines of code.\n",
    "\n",
    "**Why Use Seaborn?**\n",
    "\n",
    "*   **Ease of Use:** Seaborn simplifies the process of creating common statistical plots, such as histograms, scatter plots, and bar charts.\n",
    "*   **Aesthetics:** Seaborn comes with a variety of built-in themes and color palettes, making your plots visually appealing and easy to read.\n",
    "*   **Integration with Pandas:** Seaborn works seamlessly with Pandas DataFrames, allowing you to create plots directly from your data.\n",
    "\n",
    "In this notebook, we'll explore some of the key features of Seaborn and learn how to create a variety of statistical plots."
   ]
  },
  {
   "cell_type": "markdown",
   "metadata": {},
   "source": [
    "## 1. Distribution Plots: Visualizing Data Distributions\n",
    "\n",
    "**What are Distribution Plots?**\n",
    "\n",
    "Distribution plots are used to visualize the distribution of a single variable. They can help you understand the central tendency, spread, and shape of your data.\n",
    "\n",
    "**When to Use Distribution Plots:**\n",
    "\n",
    "*   Analyzing the distribution of exam scores\n",
    "*   Visualizing the age distribution of a population\n",
    "*   Examining the distribution of income levels\n",
    "\n",
    "Let's create a distribution plot to visualize the distribution of a dataset of heights."
   ]
  },
  {
   "cell_type": "code",
   "execution_count": null,
   "metadata": {},
   "outputs": [],
   "source": [
    "import seaborn as sns\n",
    "import matplotlib.pyplot as plt\n",
    "import numpy as np\n",
    "\n",
    "# Sample data: Heights of 100 individuals\n",
    "heights = np.random.normal(loc=170, scale=10, size=100)\n",
    "\n",
    "# Create the distribution plot\n",
    "plt.figure(figsize=(8, 5))\n",
    "sns.histplot(heights, kde=True, bins=15, color='skyblue')\n",
    "\n",
    "# Add titles and labels\n",
    "plt.title('Distribution of Heights')\n",
    "plt.xlabel('Height (cm)')\n",
    "plt.ylabel('Frequency')\n",
    "\n",
    "# Show the plot\n",
    "plt.show()"
   ]
  },
  {
   "cell_type": "markdown",
   "metadata": {},
   "source": [
    "## 2. Categorical Plots: Comparing Categories\n",
    "\n",
    "**What are Categorical Plots?**\n",
    "\n",
    "Categorical plots are used to visualize the relationship between a numerical variable and one or more categorical variables. They can help you compare different groups and identify patterns in your data.\n",
    "\n",
    "**When to Use Categorical Plots:**\n",
    "\n",
    "*   Comparing the average income of different education levels\n",
    "*   Visualizing the distribution of exam scores for different subjects\n",
    "*   Analyzing the relationship between gender and tipping behavior\n",
    "\n",
    "Let's create a box plot to compare the distribution of exam scores for different subjects."
   ]
  },
  {
   "cell_type": "code",
   "execution_count": null,
   "metadata": {},
   "outputs": [],
   "source": [
    "import pandas as pd\n",
    "\n",
    "# Sample data: Exam scores for different subjects\n",
    "data = {'Subject': ['Math', 'Math', 'Math', 'Science', 'Science', 'Science', 'English', 'English', 'English'],\n",
    "        'Score': [85, 90, 92, 78, 88, 80, 75, 82, 88]}\n",
    "df = pd.DataFrame(data)\n",
    "\n",
    "# Create the box plot\n",
    "plt.figure(figsize=(8, 5))\n",
    "sns.boxplot(x='Subject', y='Score', data=df)\n",
    "\n",
    "# Add titles and labels\n",
    "plt.title('Distribution of Exam Scores by Subject')\n",
    "plt.xlabel('Subject')\n",
    "plt.ylabel('Score')\n",
    "\n",
    "# Show the plot\n",
    "plt.show()"
   ]
  },
  {
   "cell_type": "markdown",
   "metadata": {},
   "source": [
    "## 3. Relational Plots: Exploring Relationships\n",
    "\n",
    "**What are Relational Plots?**\n",
    "\n",
    "Relational plots are used to visualize the relationship between two or more numerical variables. They can help you identify correlations, trends, and patterns in your data.\n",
    "\n",
    "**When to Use Relational Plots:**\n",
    "\n",
    "*   Investigating the relationship between advertising spending and sales\n",
    "*   Exploring the connection between a car's horsepower and its MPG\n",
    "*   Analyzing the correlation between a person's age and their blood pressure\n",
    "\n",
    "Let's create a scatter plot to explore the relationship between a car's horsepower and its MPG."
   ]
  },
  {
   "cell_type": "code",
   "execution_count": null,
   "metadata": {},
   "outputs": [],
   "source": [
    "# Load the 'mpg' dataset from Seaborn\n",
    "mpg = sns.load_dataset('mpg')\n",
    "\n",
    "# Create the scatter plot\n",
    "plt.figure(figsize=(8, 5))\n",
    "sns.scatterplot(x='horsepower', y='mpg', data=mpg, hue='origin', size='weight', alpha=0.7)\n",
    "\n",
    "# Add titles and labels\n",
    "plt.title('Relationship Between Horsepower and MPG')\n",
    "plt.xlabel('Horsepower')\n",
    "plt.ylabel('Miles Per Gallon (MPG)')\n",
    "\n",
    "# Show the plot\n",
    "plt.show()"
   ]
  },
  {
   "cell_type": "markdown",
   "metadata": {},
   "source": [
    "## 4. Regression Plots: Visualizing Linear Relationships\n",
    "\n",
    "**What are Regression Plots?**\n",
    "\n",
    "Regression plots are used to visualize the relationship between two numerical variables and fit a linear regression model to the data. They can help you understand the strength and direction of the relationship.\n",
    "\n",
    "**When to Use Regression Plots:**\n",
    "\n",
    "*   Visualizing the relationship between years of experience and salary\n",
    "*   Analyzing the connection between a student's attendance and their grades\n",
    "*   Exploring the correlation between temperature and ice cream sales\n",
    "\n",
    "Let's create a regression plot to visualize the relationship between a person's age and their monthly income."
   ]
  },
  {
   "cell_type": "code",
   "execution_count": null,
   "metadata": {},
   "outputs": [],
   "source": [
    "# Sample data: Age and monthly income\n",
    "age = np.array([22, 25, 30, 35, 40, 45, 50, 55])\n",
    "income = np.array([2500, 3000, 4000, 5500, 7000, 8000, 9500, 11000])\n",
    "\n",
    "# Create the regression plot\n",
    "plt.figure(figsize=(8, 5))\n",
    "sns.regplot(x=age, y=income, color='purple')\n",
    "\n",
    "# Add titles and labels\n",
    "plt.title('Relationship Between Age and Monthly Income')\n",
    "plt.xlabel('Age')\n",
    "plt.ylabel('Monthly Income ($)')\n",
    "\n",
    "# Show the plot\n",
    "plt.show()"
   ]
  },
  {
   "cell_type": "markdown",
   "metadata": {},
   "source": [
    "## Conclusion and Next Steps\n",
    "\n",
    "Congratulations! You've learned how to create a variety of statistical plots using Seaborn. With its high-level interface and beautiful aesthetics, Seaborn is a powerful tool for exploring and communicating your data.\n",
    "\n",
    "**Exercises:**\n",
    "\n",
    "1.  **Create a distribution plot:** Load the 'tips' dataset from Seaborn and visualize the distribution of the 'total_bill'.\n",
    "2.  **Create a categorical plot:** Use the 'titanic' dataset to explore the relationship between 'class' and 'age'.\n",
    "3.  **Create a relational plot:** Load the 'iris' dataset and create a scatter plot to visualize the relationship between 'sepal_length' and 'sepal_width'.\n",
    "4.  **Create a regression plot:** Use the 'tips' dataset to visualize the relationship between 'total_bill' and 'tip'.\n",
    "\n",
    "In the next notebook, we'll dive into more advanced statistical visualizations, including heatmaps, pair plots, and facet grids."
   ]
  }
 ],
 "metadata": {
  "kernelspec": {
   "display_name": "Python 3",
   "language": "python",
   "name": "python3"
  },
  "language_info": {
   "codemirror_mode": {
    "name": "ipython",
    "version": 3
   },
   "file_extension": ".py",
   "mimetype": "text/x-python",
   "name": "python",
   "nbconvert_exporter": "python",
   "pygments_lexer": "ipython3",
   "version": "3.10.9"
  }
 },
 "nbformat": 4,
 "nbformat_minor": 4
}
